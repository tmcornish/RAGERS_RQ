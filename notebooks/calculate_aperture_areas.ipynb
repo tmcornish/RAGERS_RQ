{
 "cells": [
  {
   "cell_type": "code",
   "execution_count": 1,
   "metadata": {},
   "outputs": [],
   "source": [
    "import numpy as np\n",
    "import sys\n",
    "sys.path.append('../')\n",
    "import general as gen\n",
    "import astrometry as ast\n",
    "from astropy.table import Table\n",
    "from astropy import wcs\n",
    "from astropy.io import fits\n",
    "from astropy import units as u\n",
    "from astropy.coordinates import SkyCoord\n",
    "from photutils.aperture import SkyCircularAperture, aperture_photometry"
   ]
  },
  {
   "cell_type": "code",
   "execution_count": 2,
   "metadata": {},
   "outputs": [],
   "source": [
    "#load the RQ and RL catalogues\n",
    "data_rq = Table.read(gen.PATH_CATS + 'RAGERS_COSMOS2020_matches_Mstar_z_rq.fits')\n",
    "data_rl = Table.read(gen.PATH_CATS + 'RAGERS_COSMOS2020_matches_Mstar_z_rl.fits')"
   ]
  },
  {
   "cell_type": "code",
   "execution_count": 3,
   "metadata": {},
   "outputs": [
    {
     "name": "stderr",
     "output_type": "stream",
     "text": [
      "WARNING: FITSFixedWarning: 'obsfix' made the change 'Set OBSGEO-L to  -155.477058 from OBSGEO-[XYZ].\n",
      "Set OBSGEO-B to    19.822880 from OBSGEO-[XYZ].\n",
      "Set OBSGEO-H to     4120.022 from OBSGEO-[XYZ]'. [astropy.wcs.wcs]\n"
     ]
    }
   ],
   "source": [
    "#load the S2COSMOS mask\n",
    "mask_file = gen.PATH_DATA + 's2cosmos_main_mask.fits'\n",
    "mask = fits.getdata(mask_file)[0]\n",
    "w = wcs.WCS(fits.getheader(mask_file), naxis=2)"
   ]
  },
  {
   "cell_type": "code",
   "execution_count": 4,
   "metadata": {},
   "outputs": [
    {
     "name": "stdout",
     "output_type": "stream",
     "text": [
      "1.9999999999999871\n"
     ]
    }
   ],
   "source": [
    "#create a WCS object from the information in the header\n",
    "#find the pixel scale (in arcsec/pix) in each dimension\n",
    "ps_all = wcs.utils.proj_plane_pixel_scales(w) * 3600.\n",
    "#use the average across all dimensions to estimate the scalar pixel scale of the image\n",
    "ps = np.mean(ps_all)\n",
    "print(ps)"
   ]
  },
  {
   "cell_type": "code",
   "execution_count": 5,
   "metadata": {},
   "outputs": [],
   "source": [
    "#get the positions of each source and use to create apertures\n",
    "coords_rq = SkyCoord(data_rq['ALPHA_J2000'], data_rq['DELTA_J2000'])\n",
    "apers_rq = [SkyCircularAperture(coords_rq, r=r*u.arcmin).to_pixel(w) for r in gen.r_search_all]\n",
    "coords_rl = SkyCoord(data_rl['ALPHA_J2000'], data_rl['DELTA_J2000'])\n",
    "apers_rl = [SkyCircularAperture(coords_rl, r=r*u.arcmin).to_pixel(w) for r in gen.r_search_all]\n"
   ]
  },
  {
   "cell_type": "code",
   "execution_count": 6,
   "metadata": {},
   "outputs": [],
   "source": [
    "apphot_rq = aperture_photometry(mask, apers_rq, method='exact')\t\n",
    "apphot_rl = aperture_photometry(mask, apers_rl, method='exact')\t"
   ]
  },
  {
   "cell_type": "code",
   "execution_count": 7,
   "metadata": {},
   "outputs": [],
   "source": [
    "for i,r in enumerate(gen.r_search_all):\n",
    "\tdata_rq[f'area_main_{int(r)}'] = apphot_rq[f'aperture_sum_{i}'] * (ps / 3600) ** 2\n",
    "\tdata_rl[f'area_main_{int(r)}'] = apphot_rl[f'aperture_sum_{i}'] * (ps / 3600) ** 2"
   ]
  },
  {
   "cell_type": "code",
   "execution_count": 9,
   "metadata": {},
   "outputs": [],
   "source": [
    "data_rq.write(gen.PATH_CATS + 'RAGERS_COSMOS2020_matches_Mstar_z_rq.fits', overwrite=True)\n",
    "data_rl.write(gen.PATH_CATS + 'RAGERS_COSMOS2020_matches_Mstar_z_rl.fits', overwrite=True)"
   ]
  },
  {
   "cell_type": "code",
   "execution_count": null,
   "metadata": {},
   "outputs": [],
   "source": []
  },
  {
   "cell_type": "code",
   "execution_count": null,
   "metadata": {},
   "outputs": [],
   "source": []
  }
 ],
 "metadata": {
  "kernelspec": {
   "display_name": "ragers",
   "language": "python",
   "name": "python3"
  },
  "language_info": {
   "codemirror_mode": {
    "name": "ipython",
    "version": 3
   },
   "file_extension": ".py",
   "mimetype": "text/x-python",
   "name": "python",
   "nbconvert_exporter": "python",
   "pygments_lexer": "ipython3",
   "version": "3.11.0"
  }
 },
 "nbformat": 4,
 "nbformat_minor": 2
}
