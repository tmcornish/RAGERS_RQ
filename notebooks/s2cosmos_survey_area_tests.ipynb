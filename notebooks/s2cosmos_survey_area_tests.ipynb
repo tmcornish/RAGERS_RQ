{
 "cells": [
  {
   "cell_type": "code",
   "execution_count": 8,
   "metadata": {},
   "outputs": [],
   "source": [
    "import numpy as np\n",
    "from astropy.table import Table\n",
    "from matplotlib import pyplot as plt\n",
    "import sys\n",
    "sys.path.append('../')\n",
    "import general as gen\n",
    "import astrometry as ast"
   ]
  },
  {
   "cell_type": "code",
   "execution_count": 9,
   "metadata": {},
   "outputs": [],
   "source": [
    "PATH_CATS = '/home/cornisht/PhD/RAGERS/Catalogues/'\n",
    "s2c_cat = Table.read(PATH_CATS + 'Simpson+19_S2COSMOS_source_cat.fits')\n",
    "rq_cat = Table.read(PATH_CATS + 'RAGERS_COSMOS2020_matches_Mstar_z_rq.fits')\n",
    "rl_cat = Table.read(PATH_CATS + 'RAGERS_COSMOS2020_matches_Mstar_z_rl.fits')\n",
    "\n",
    "smg_main = s2c_cat['Sample'] == \"MAIN\""
   ]
  },
  {
   "cell_type": "code",
   "execution_count": 10,
   "metadata": {},
   "outputs": [],
   "source": [
    "RA_s2c = s2c_cat['RA_deg']\n",
    "DEC_s2c = s2c_cat['DEC_deg']\n",
    "RA_rq = rq_cat['ALPHA_J2000']\n",
    "DEC_rq = rq_cat['DELTA_J2000']\n",
    "RA_rl = rl_cat['ALPHA_J2000']\n",
    "DEC_rl = rl_cat['DELTA_J2000']"
   ]
  },
  {
   "cell_type": "code",
   "execution_count": 11,
   "metadata": {},
   "outputs": [],
   "source": [
    "ast.table_to_DS9_regions(rq_cat, 'ALPHA_J2000', 'DELTA_J2000', output_name='/home/cornisht/PhD/RAGERS/Catalogues/rq_sample.reg', radius=\"6'\")\n",
    "ast.table_to_DS9_regions(rl_cat, 'ALPHA_J2000', 'DELTA_J2000', output_name='/home/cornisht/PhD/RAGERS/Catalogues/rl_sample.reg', color='cyan', radius=\"6'\")\n",
    "ast.table_to_DS9_regions(s2c_cat[smg_main], 'RA_deg', 'DEC_deg', output_name='/home/cornisht/PhD/RAGERS/Catalogues/smgs_main.reg', color='red', radius=\"1'\")"
   ]
  },
  {
   "cell_type": "code",
   "execution_count": null,
   "metadata": {},
   "outputs": [],
   "source": []
  }
 ],
 "metadata": {
  "kernelspec": {
   "display_name": "ragers",
   "language": "python",
   "name": "python3"
  },
  "language_info": {
   "codemirror_mode": {
    "name": "ipython",
    "version": 3
   },
   "file_extension": ".py",
   "mimetype": "text/x-python",
   "name": "python",
   "nbconvert_exporter": "python",
   "pygments_lexer": "ipython3",
   "version": "3.11.0"
  }
 },
 "nbformat": 4,
 "nbformat_minor": 2
}
