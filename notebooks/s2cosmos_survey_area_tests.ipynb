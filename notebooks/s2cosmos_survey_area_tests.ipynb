{
 "cells": [
  {
   "cell_type": "code",
   "execution_count": 64,
   "metadata": {},
   "outputs": [],
   "source": [
    "import numpy as np\n",
    "from astropy.table import Table\n",
    "from astropy.io import fits\n",
    "from matplotlib import pyplot as plt\n",
    "import sys\n",
    "sys.path.append('../')\n",
    "import general as gen\n",
    "import astrometry as ast\n",
    "from astropy import wcs\n"
   ]
  },
  {
   "cell_type": "code",
   "execution_count": 65,
   "metadata": {},
   "outputs": [],
   "source": [
    "PATH_CATS = gen.PATH_CATS\n",
    "s2c_cat = Table.read(PATH_CATS + 'Simpson+19_S2COSMOS_source_cat.fits')\n",
    "rq_cat = Table.read(PATH_CATS + 'RAGERS_COSMOS2020_matches_Mstar_z_rq.fits')\n",
    "rl_cat = Table.read(PATH_CATS + 'RAGERS_COSMOS2020_matches_Mstar_z_rl.fits')\n",
    "\n",
    "smg_main = s2c_cat['Sample'] == \"MAIN\""
   ]
  },
  {
   "cell_type": "code",
   "execution_count": 66,
   "metadata": {},
   "outputs": [],
   "source": [
    "RA_s2c = s2c_cat['RA_deg']\n",
    "DEC_s2c = s2c_cat['DEC_deg']\n",
    "RA_rq = rq_cat['ALPHA_J2000']\n",
    "DEC_rq = rq_cat['DELTA_J2000']\n",
    "RA_rl = rl_cat['ALPHA_J2000']\n",
    "DEC_rl = rl_cat['DELTA_J2000']"
   ]
  },
  {
   "cell_type": "markdown",
   "metadata": {},
   "source": [
    "## Defining boundaries of MAIN sample area"
   ]
  },
  {
   "cell_type": "code",
   "execution_count": 67,
   "metadata": {},
   "outputs": [],
   "source": [
    "PATH_DATA = gen.PATH_DATA\n",
    "boundaries = Table.read(PATH_DATA + 's2cosmos_main_boundaries.txt', format='ascii')\n",
    "poly_verts = [(x,y) for x, y in zip(boundaries['col1'], boundaries['col2'])]"
   ]
  },
  {
   "cell_type": "code",
   "execution_count": 68,
   "metadata": {},
   "outputs": [],
   "source": [
    "poly_verts = np.array([boundaries['col1'], boundaries['col2']]).T"
   ]
  },
  {
   "cell_type": "code",
   "execution_count": 69,
   "metadata": {},
   "outputs": [],
   "source": [
    "#get the image data\n",
    "img_data = fits.getdata(PATH_DATA + 'S2COSMOS_20180927_850_err_mf_crop.fits')[0]\n",
    "img_hdr = fits.getheader(PATH_DATA + 'S2COSMOS_20180927_850_err_mf_crop.fits')"
   ]
  },
  {
   "cell_type": "code",
   "execution_count": 70,
   "metadata": {},
   "outputs": [
    {
     "name": "stderr",
     "output_type": "stream",
     "text": [
      "WARNING: FITSFixedWarning: 'obsfix' made the change 'Set OBSGEO-L to  -155.477058 from OBSGEO-[XYZ].\n",
      "Set OBSGEO-B to    19.822880 from OBSGEO-[XYZ].\n",
      "Set OBSGEO-H to     4120.022 from OBSGEO-[XYZ]'. [astropy.wcs.wcs]\n"
     ]
    }
   ],
   "source": [
    "w = wcs.WCS(img_hdr, naxis=2)\n",
    "poly_verts_xy = w.wcs_world2pix(poly_verts, 1)"
   ]
  },
  {
   "cell_type": "code",
   "execution_count": 71,
   "metadata": {},
   "outputs": [],
   "source": [
    "#create an array of just 1s with the same dimensions; this will later be the weightmap (mask)\n",
    "wmap = img_data - img_data + 1.\n",
    "#produce a grid of x and y pixels\n",
    "xgrid, ygrid = np.meshgrid(np.arange(len(wmap[0,:])), np.arange(len(wmap[:,0])))"
   ]
  },
  {
   "cell_type": "code",
   "execution_count": 72,
   "metadata": {},
   "outputs": [],
   "source": [
    "xgrid = xgrid.flatten()\n",
    "ygrid = ygrid.flatten()"
   ]
  },
  {
   "cell_type": "code",
   "execution_count": 73,
   "metadata": {},
   "outputs": [],
   "source": [
    "points = np.vstack((xgrid,ygrid)).T"
   ]
  },
  {
   "cell_type": "code",
   "execution_count": 74,
   "metadata": {},
   "outputs": [],
   "source": [
    "from matplotlib import path as mpp\n",
    "path = mpp.Path(poly_verts_xy)\n"
   ]
  },
  {
   "cell_type": "code",
   "execution_count": 75,
   "metadata": {},
   "outputs": [],
   "source": [
    "mask = path.contains_points(points)\n",
    "mask = mask.reshape(wmap.shape)"
   ]
  },
  {
   "cell_type": "code",
   "execution_count": 76,
   "metadata": {},
   "outputs": [
    {
     "data": {
      "text/plain": [
       "<matplotlib.image.AxesImage at 0x7fd7ee12d290>"
      ]
     },
     "execution_count": 76,
     "metadata": {},
     "output_type": "execute_result"
    },
    {
     "data": {
      "image/png": "[encoded data removed]",
      "text/plain": [
       "<Figure size 640x480 with 1 Axes>"
      ]
     },
     "metadata": {},
     "output_type": "display_data"
    }
   ],
   "source": [
    "from matplotlib import pyplot as plt\n",
    "plt.imshow(mask)"
   ]
  },
  {
   "cell_type": "code",
   "execution_count": 77,
   "metadata": {},
   "outputs": [
    {
     "data": {
      "text/plain": [
       "(1, 3307, 3307)"
      ]
     },
     "execution_count": 77,
     "metadata": {},
     "output_type": "execute_result"
    }
   ],
   "source": [
    "mask.reshape(1, *mask.shape).shape"
   ]
  },
  {
   "cell_type": "code",
   "execution_count": 78,
   "metadata": {},
   "outputs": [],
   "source": [
    "fits.writeto(PATH_DATA+'s2cosmos_main_mask.fits', data=mask.reshape(1, *mask.shape).astype(int), header=img_hdr, overwrite=True)"
   ]
  },
  {
   "cell_type": "code",
   "execution_count": null,
   "metadata": {},
   "outputs": [],
   "source": []
  },
  {
   "cell_type": "code",
   "execution_count": null,
   "metadata": {},
   "outputs": [],
   "source": []
  }
 ],
 "metadata": {
  "kernelspec": {
   "display_name": "ragers",
   "language": "python",
   "name": "python3"
  },
  "language_info": {
   "codemirror_mode": {
    "name": "ipython",
    "version": 3
   },
   "file_extension": ".py",
   "mimetype": "text/x-python",
   "name": "python",
   "nbconvert_exporter": "python",
   "pygments_lexer": "ipython3",
   "version": "3.11.0"
  }
 },
 "nbformat": 4,
 "nbformat_minor": 2
}
